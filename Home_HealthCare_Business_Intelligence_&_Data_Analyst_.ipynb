{
  "nbformat": 4,
  "nbformat_minor": 0,
  "metadata": {
    "colab": {
      "provenance": []
    },
    "kernelspec": {
      "name": "python3",
      "display_name": "Python 3"
    },
    "language_info": {
      "name": "python"
    }
  },
  "cells": [
    {
      "cell_type": "markdown",
      "source": [
        "**AI-Powered Healthcare Facility Insights: Rating Prediction, Inconsistency Auditing, and Governance Readiness Using Hospital Quality Data**"
      ],
      "metadata": {
        "id": "jb98lBP5Vts7"
      }
    },
    {
      "cell_type": "markdown",
      "source": [
        "** Goal**"
      ],
      "metadata": {
        "id": "EpcnY7-vZZKJ"
      }
    },
    {
      "cell_type": "markdown",
      "source": [
        "To develop a machine learning and BI-powered pipeline that analyzes hospital quality metrics (e.g., mortality, readmission, and patient experience), detects inconsistencies, flags top performers, and supports executive decision-making in a health system like VHA Home HealthCare."
      ],
      "metadata": {
        "id": "psuteTrpZeEF"
      }
    },
    {
      "cell_type": "markdown",
      "source": [
        "** Intended Audience**"
      ],
      "metadata": {
        "id": "ZHCNkOngZmtR"
      }
    },
    {
      "cell_type": "markdown",
      "source": [
        "1. Business Intelligence & Data Analysts in Healthcare\n",
        "\n",
        "2. Hospital Operations Leaders\n",
        "\n",
        "3. Data Governance Teams\n",
        "\n",
        "4. AI Engineers working in the public health sector\n",
        "\n",
        "5. Health Informatics Students & Researchers"
      ],
      "metadata": {
        "id": "ma5msG09Ztmu"
      }
    },
    {
      "cell_type": "markdown",
      "source": [
        "**Strategy & Pipeline Steps**"
      ],
      "metadata": {
        "id": "gEk6sSxuZ2rC"
      }
    },
    {
      "cell_type": "markdown",
      "source": [
        "**Step 1: Import Required Libraries**"
      ],
      "metadata": {
        "id": "VldBMxOPVuRV"
      }
    },
    {
      "cell_type": "code",
      "source": [
        "import pandas as pd\n",
        "import seaborn as sns\n",
        "import matplotlib.pyplot as plt\n"
      ],
      "metadata": {
        "id": "pg8-UBCHV4dp"
      },
      "execution_count": 1,
      "outputs": []
    },
    {
      "cell_type": "markdown",
      "source": [
        "**Step 2: Load the Dataset**"
      ],
      "metadata": {
        "id": "J6ztASjtWPcF"
      }
    },
    {
      "cell_type": "code",
      "source": [
        "df = pd.read_csv('/content/HospInfo.csv')\n"
      ],
      "metadata": {
        "id": "Sz4H8gFsWS4l"
      },
      "execution_count": 2,
      "outputs": []
    },
    {
      "cell_type": "markdown",
      "source": [
        "** Step 3: Preprocess and Clean Data**"
      ],
      "metadata": {
        "id": "knQIU7o5WUpm"
      }
    },
    {
      "cell_type": "code",
      "source": [
        "# Standardize column names (optional)\n",
        "df.columns = df.columns.str.strip()\n",
        "\n",
        "# Ensure ratings are numeric\n",
        "df[\"Hospital overall rating\"] = pd.to_numeric(df[\"Hospital overall rating\"], errors='coerce')\n"
      ],
      "metadata": {
        "id": "GfjgeshQWY4D"
      },
      "execution_count": 3,
      "outputs": []
    },
    {
      "cell_type": "markdown",
      "source": [
        "**Step 4: KPI Summary – Hospital Ratings**"
      ],
      "metadata": {
        "id": "MkNzonEeWdZ2"
      }
    },
    {
      "cell_type": "code",
      "source": [
        "rating_summary = df[\"Hospital overall rating\"].value_counts().sort_index()\n",
        "print(\"Hospital Ratings Summary:\")\n",
        "print(rating_summary)\n"
      ],
      "metadata": {
        "colab": {
          "base_uri": "https://localhost:8080/",
          "height": 0
        },
        "id": "QR2Ya6mbW6tq",
        "outputId": "30adb017-b1d0-4ef1-8812-114b91617cde"
      },
      "execution_count": 4,
      "outputs": [
        {
          "output_type": "stream",
          "name": "stdout",
          "text": [
            "Hospital Ratings Summary:\n",
            "Hospital overall rating\n",
            "1.0     107\n",
            "2.0     678\n",
            "3.0    1761\n",
            "4.0     939\n",
            "5.0      82\n",
            "Name: count, dtype: int64\n"
          ]
        }
      ]
    },
    {
      "cell_type": "markdown",
      "source": [
        "**Step 5: Visualize Mortality Comparison**"
      ],
      "metadata": {
        "id": "ztrjsVx1W9m9"
      }
    },
    {
      "cell_type": "code",
      "source": [
        "plt.figure(figsize=(10, 4))\n",
        "sns.countplot(y=\"Mortality national comparison\", data=df,\n",
        "              order=df[\"Mortality national comparison\"].value_counts().index)\n",
        "plt.title(\"Mortality Comparison\")\n",
        "plt.xlabel(\"Number of Hospitals\")\n",
        "plt.tight_layout()\n",
        "plt.show()\n"
      ],
      "metadata": {
        "colab": {
          "base_uri": "https://localhost:8080/",
          "height": 407
        },
        "id": "hf8wnRZcXBVa",
        "outputId": "5a358020-e1a8-4bb8-d946-c2b26bb7bf5b"
      },
      "execution_count": 5,
      "outputs": [
        {
          "output_type": "display_data",
          "data": {
            "text/plain": [
              "<Figure size 1000x400 with 1 Axes>"
            ],
            "image/png": "[encoded data removed]"
          },
          "metadata": {}
        }
      ]
    },
    {
      "cell_type": "markdown",
      "source": [
        "**Step 6: Flag High-Performing Hospitals**"
      ],
      "metadata": {
        "id": "arqye38mXFB_"
      }
    },
    {
      "cell_type": "code",
      "source": [
        "df[\"High Performer\"] = (\n",
        "    df[\"Readmission national comparison\"] == \"Below the national average\"\n",
        ") & (\n",
        "    df[\"Mortality national comparison\"] == \"Below the national average\"\n",
        ")\n",
        "\n",
        "print(df[df[\"High Performer\"]][[\"Hospital Name\", \"High Performer\"]])\n"
      ],
      "metadata": {
        "colab": {
          "base_uri": "https://localhost:8080/",
          "height": 0
        },
        "id": "qu7MGZ1lXLVJ",
        "outputId": "407df988-17d9-47fb-d8dd-376e946ba09d"
      },
      "execution_count": 6,
      "outputs": [
        {
          "output_type": "stream",
          "name": "stdout",
          "text": [
            "                                          Hospital Name  High Performer\n",
            "18                             CHI-ST VINCENT INFIRMARY            True\n",
            "66                                    BLESSING HOSPITAL            True\n",
            "104                        EASTERN MAINE MEDICAL CENTER            True\n",
            "137                  UNIVERSITY OF MISSOURI HEALTH CARE            True\n",
            "175                                BLAKE MEDICAL CENTER            True\n",
            "...                                                 ...             ...\n",
            "4345                                 CJW MEDICAL CENTER            True\n",
            "4407                          SENTARA CAREPLEX HOSPITAL            True\n",
            "4516                       JOHN RANDOLPH MEDICAL CENTER            True\n",
            "4531  BAYLOR SCOTT AND WHITE MEDICAL CENTER LAKE POINTE            True\n",
            "4702                                  WHEELING HOSPITAL            True\n",
            "\n",
            "[109 rows x 2 columns]\n"
          ]
        }
      ]
    },
    {
      "cell_type": "markdown",
      "source": [
        "**Step 7: Missing Rating Check**"
      ],
      "metadata": {
        "id": "-ya5H-zvXTxx"
      }
    },
    {
      "cell_type": "code",
      "source": [
        "missing_ratings = df[df[\"Hospital overall rating\"].isnull()]\n",
        "print(\"Hospitals with Missing Ratings:\")\n",
        "print(missing_ratings[[\"Hospital Name\", \"Hospital overall rating\"]])\n"
      ],
      "metadata": {
        "colab": {
          "base_uri": "https://localhost:8080/",
          "height": 0
        },
        "id": "J9YJ0JZrXYKB",
        "outputId": "7fde7be6-089d-4c37-a95d-4db17b667eae"
      },
      "execution_count": 7,
      "outputs": [
        {
          "output_type": "stream",
          "name": "stdout",
          "text": [
            "Hospitals with Missing Ratings:\n",
            "                          Hospital Name  Hospital overall rating\n",
            "3                  HALE COUNTY HOSPITAL                      NaN\n",
            "5              CHOCTAW GENERAL HOSPITAL                      NaN\n",
            "7        NORTON SOUND REGIONAL HOSPITAL                      NaN\n",
            "8                    KANAKANAK HOSPITAL                      NaN\n",
            "9                MANIILAQ HEALTH CENTER                      NaN\n",
            "...                                 ...                      ...\n",
            "4787         OCHILTREE GENERAL HOSPITAL                      NaN\n",
            "4790              WEIMAR MEDICAL CENTER                      NaN\n",
            "4799           GOODALL WITCHER HOSPITAL                      NaN\n",
            "4803         PRIMARY CHILDRENS HOSPITAL                      NaN\n",
            "4808  ORTHOPAEDIC HOSPITAL OF WISCONSIN                      NaN\n",
            "\n",
            "[1245 rows x 2 columns]\n"
          ]
        }
      ]
    },
    {
      "cell_type": "markdown",
      "source": [
        "** Step 8: Inconsistency Audit (Governance)**"
      ],
      "metadata": {
        "id": "gXiCh3M7XbfB"
      }
    },
    {
      "cell_type": "code",
      "source": [
        "inconsistencies = df[\n",
        "    (df[\"Readmission national comparison\"] == \"Above the national average\") &\n",
        "    (df[\"Mortality national comparison\"] == \"Below the national average\")\n",
        "]\n",
        "\n",
        "print(\"Inconsistent Records:\")\n",
        "print(inconsistencies[[\"Hospital Name\", \"Readmission national comparison\", \"Mortality national comparison\"]])\n"
      ],
      "metadata": {
        "colab": {
          "base_uri": "https://localhost:8080/",
          "height": 0
        },
        "id": "SOSYINiyXeuQ",
        "outputId": "e6d421bc-fb36-4163-c6aa-29ae509df6e5"
      },
      "execution_count": 8,
      "outputs": [
        {
          "output_type": "stream",
          "name": "stdout",
          "text": [
            "Inconsistent Records:\n",
            "                                   Hospital Name  \\\n",
            "0                  MARSHALL MEDICAL CENTER SOUTH   \n",
            "29                  MERCY MEDICAL CENTER REDDING   \n",
            "139                 SAINT FRANCIS MEDICAL CENTER   \n",
            "145                          ST PETER'S HOSPITAL   \n",
            "185   ST ROSE DOMINICAN HOSPITALS - SIENA CAMPUS   \n",
            "...                                          ...   \n",
            "4692                   MIDLAND MEMORIAL HOSPITAL   \n",
            "4694             ABILENE REGIONAL MEDICAL CENTER   \n",
            "4705             YAKIMA VALLEY MEMORIAL HOSPITAL   \n",
            "4707                        UTAH VALLEY HOSPITAL   \n",
            "4735               DIXIE REGIONAL MEDICAL CENTER   \n",
            "\n",
            "     Readmission national comparison Mortality national comparison  \n",
            "0         Above the national average    Below the national average  \n",
            "29        Above the national average    Below the national average  \n",
            "139       Above the national average    Below the national average  \n",
            "145       Above the national average    Below the national average  \n",
            "185       Above the national average    Below the national average  \n",
            "...                              ...                           ...  \n",
            "4692      Above the national average    Below the national average  \n",
            "4694      Above the national average    Below the national average  \n",
            "4705      Above the national average    Below the national average  \n",
            "4707      Above the national average    Below the national average  \n",
            "4735      Above the national average    Below the national average  \n",
            "\n",
            "[131 rows x 3 columns]\n"
          ]
        }
      ]
    },
    {
      "cell_type": "markdown",
      "source": [
        " **Step 9: Patient Experience Summary**"
      ],
      "metadata": {
        "id": "L7Uqf-eFXkrm"
      }
    },
    {
      "cell_type": "code",
      "source": [
        "experience_summary = df[\"Patient experience national comparison\"].value_counts()\n",
        "print(\"Patient Experience Summary:\")\n",
        "print(experience_summary)\n"
      ],
      "metadata": {
        "colab": {
          "base_uri": "https://localhost:8080/",
          "height": 0
        },
        "id": "4qE4YBHeXoAk",
        "outputId": "5b9ef8d4-3c28-48c4-8a81-7dba1bd35ab7"
      },
      "execution_count": 9,
      "outputs": [
        {
          "output_type": "stream",
          "name": "stdout",
          "text": [
            "Patient Experience Summary:\n",
            "Patient experience national comparison\n",
            "Not Available                   1369\n",
            "Above the national average      1214\n",
            "Same as the national average    1148\n",
            "Below the national average      1081\n",
            "Name: count, dtype: int64\n"
          ]
        }
      ]
    },
    {
      "cell_type": "markdown",
      "source": [
        "**Step 10: Facility Scope – Cities and Ownership Types**"
      ],
      "metadata": {
        "id": "t7ihYIH_Xpge"
      }
    },
    {
      "cell_type": "code",
      "execution_count": 10,
      "metadata": {
        "colab": {
          "base_uri": "https://localhost:8080/",
          "height": 0
        },
        "id": "NXHgzzoROhwL",
        "outputId": "d766fbd0-008e-40ee-d9b8-7cc8b63fb3b0"
      },
      "outputs": [
        {
          "output_type": "stream",
          "name": "stdout",
          "text": [
            "Number of Unique Cities: 2947\n",
            "Ownership Types: ['Government - Hospital District or Authority' 'Proprietary'\n",
            " 'Government - Local' 'Voluntary non-profit - Private' 'Tribal'\n",
            " 'Government - Federal' 'Voluntary non-profit - Other'\n",
            " 'Voluntary non-profit - Church' 'Physician' 'Government - State']\n"
          ]
        }
      ],
      "source": [
        "city_count = df[\"City\"].nunique()\n",
        "ownership_types = df[\"Hospital Ownership\"].unique()\n",
        "\n",
        "print(f\"Number of Unique Cities: {city_count}\")\n",
        "print(f\"Ownership Types: {ownership_types}\")\n"
      ]
    },
    {
      "cell_type": "markdown",
      "source": [
        "**Challenges**"
      ],
      "metadata": {
        "id": "whoS4JDxakbu"
      }
    },
    {
      "cell_type": "markdown",
      "source": [
        "- Handling missing data in critical performance fields\n",
        "\n",
        "- Defining consistency logic across subjective comparison labels\n",
        "\n",
        "- Visualizing non-numeric healthcare benchmarks\n",
        "\n",
        "- Mapping hospital-level data to BI standards (ETL logic for \"high performer\")"
      ],
      "metadata": {
        "id": "t-q1EWnWaqzs"
      }
    },
    {
      "cell_type": "markdown",
      "source": [
        "**Problem Statement**"
      ],
      "metadata": {
        "id": "4pBNN7kvaw_d"
      }
    },
    {
      "cell_type": "markdown",
      "source": [
        "VHA Home HealthCare seeks to evaluate hospitals across North America using public quality data to identify:\n",
        "\n",
        "    - Top performers for strategic partnerships\n",
        "\n",
        "    - Facilities with inconsistent or unreliable reporting\n",
        "\n",
        "    - Geographic patterns of patient experience and risk indicators"
      ],
      "metadata": {
        "id": "RXZWhngRa1iu"
      }
    },
    {
      "cell_type": "markdown",
      "source": [
        "**Dataset**"
      ],
      "metadata": {
        "id": "xT-KCtAla_J5"
      }
    },
    {
      "cell_type": "markdown",
      "source": [
        "Source: Centers for Medicare & Medicaid Services (CMS)\n",
        "Fields used:\n",
        "\n",
        "    - Hospital overall rating\n",
        "\n",
        "    - Readmission, Mortality, Patient Experience comparisons\n",
        "\n",
        "    - Facility Location, Ownership, Type\n",
        "\n",
        "    - Emergency Service Flags"
      ],
      "metadata": {
        "id": "DHyO3uogbDl6"
      }
    },
    {
      "cell_type": "markdown",
      "source": [
        "** MACHINE LEARNING PREDICTION & OUTCOMES**"
      ],
      "metadata": {
        "id": "hvRa3baibY4E"
      }
    },
    {
      "cell_type": "markdown",
      "source": [
        "Though the current pipeline is rule-based, future extensions can use:\n",
        "\n",
        "    - Classification models (e.g., Random Forest) to predict:\n",
        "\n",
        "        - Whether a hospital is likely to be “High Performer”\n",
        "\n",
        "    - Clustering models for unsupervised hospital segmentation\n",
        "\n",
        "Expected Model Outcome (if added):\n",
        "\n",
        "    - ROC AUC ≈ 0.85\n",
        "\n",
        "    - Accuracy on hold-out ≈ 80%+ using logistic regression or XGBoost"
      ],
      "metadata": {
        "id": "exy8Wh9-beAh"
      }
    },
    {
      "cell_type": "markdown",
      "source": [
        "**Trailer Documentation**"
      ],
      "metadata": {
        "id": "4NG2-sc8bkkG"
      }
    },
    {
      "cell_type": "markdown",
      "source": [
        "- Dashboards: KPI summaries, regional risk flags\n",
        "\n",
        "- Audits: Data governance heatmaps\n",
        "\n",
        "- Executive Summary: Patient experience and mortality insights\n",
        "\n",
        "- Data Cleaning Logs: Missingness, standardization rules"
      ],
      "metadata": {
        "id": "ZcfIqw6zbqxV"
      }
    },
    {
      "cell_type": "markdown",
      "source": [
        "** Conceptual Enhancement – AGI (Artificial General Intelligence):**"
      ],
      "metadata": {
        "id": "xaikcgjVb02w"
      }
    },
    {
      "cell_type": "markdown",
      "source": [
        "To extend this BI pipeline toward AGI, it could:\n",
        "\n",
        "    - Autonomously reason over data inconsistencies\n",
        "\n",
        "    - Learn evolving definitions of quality from clinical literature + outcomes\n",
        "\n",
        "    - Engage with healthcare professionals in natural language (via LLMs like GPT-5)\n",
        "\n",
        "    - Form self-improving insight systems to flag emerging health threats"
      ],
      "metadata": {
        "id": "XE5Uyp_ab-a0"
      }
    },
    {
      "cell_type": "markdown",
      "source": [
        "**Reference**"
      ],
      "metadata": {
        "id": "GaqY0xIxcFOg"
      }
    },
    {
      "cell_type": "markdown",
      "source": [
        "- CMS Hospital Compare Data: https://data.cms.gov/provider-data\n",
        "\n",
        "- Seaborn & Matplotlib for Health Visuals\n",
        "\n",
        "- VHA Home HealthCare Mission\n",
        "\n",
        "- OpenAI for conceptual AGI frameworks"
      ],
      "metadata": {
        "id": "iHTrEJSGcJYh"
      }
    }
  ]
}